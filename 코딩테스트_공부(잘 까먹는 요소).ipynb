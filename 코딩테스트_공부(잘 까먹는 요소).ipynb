{
 "cells": [
  {
   "attachments": {},
   "cell_type": "markdown",
   "metadata": {},
   "source": [
    "아스키코드(ascii)\n",
    "- 미국 정보교환 표준 부호(American Standard Code for Information Interchange)\n",
    "- 아스키코드를 코딩테스트에 활용 가능."
   ]
  },
  {
   "cell_type": "code",
   "execution_count": null,
   "metadata": {},
   "outputs": [],
   "source": []
  }
 ],
 "metadata": {
  "language_info": {
   "name": "python"
  },
  "orig_nbformat": 4
 },
 "nbformat": 4,
 "nbformat_minor": 2
}
